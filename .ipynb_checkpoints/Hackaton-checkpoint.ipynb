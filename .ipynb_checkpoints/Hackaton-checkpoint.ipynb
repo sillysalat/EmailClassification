{
 "cells": [
  {
   "cell_type": "code",
   "execution_count": 1,
   "metadata": {},
   "outputs": [],
   "source": [
    "import numpy as np\n",
    "import tensorflow as tf\n",
    "import pandas as pd\n",
    "import matplotlib.pyplot as plt\n",
    "import seaborn as sn\n",
    "import re"
   ]
  },
  {
   "cell_type": "markdown",
   "metadata": {},
   "source": [
    "# Import"
   ]
  },
  {
   "cell_type": "code",
   "execution_count": 263,
   "metadata": {},
   "outputs": [],
   "source": [
    "f = pd.read_csv('/Users/Ozhyna/Code/MailPrediction/emailsendtime/email_best_send_time_train.csv')"
   ]
  },
  {
   "cell_type": "code",
   "execution_count": 264,
   "metadata": {},
   "outputs": [
    {
     "data": {
      "text/html": [
       "<div>\n",
       "<style scoped>\n",
       "    .dataframe tbody tr th:only-of-type {\n",
       "        vertical-align: middle;\n",
       "    }\n",
       "\n",
       "    .dataframe tbody tr th {\n",
       "        vertical-align: top;\n",
       "    }\n",
       "\n",
       "    .dataframe thead th {\n",
       "        text-align: right;\n",
       "    }\n",
       "</style>\n",
       "<table border=\"1\" class=\"dataframe\">\n",
       "  <thead>\n",
       "    <tr style=\"text-align: right;\">\n",
       "      <th></th>\n",
       "      <th>MailID</th>\n",
       "      <th>Subject</th>\n",
       "      <th>MailBoxID</th>\n",
       "      <th>ContactID</th>\n",
       "      <th>TimeZone</th>\n",
       "      <th>SentOn</th>\n",
       "      <th>Opened</th>\n",
       "    </tr>\n",
       "  </thead>\n",
       "  <tbody>\n",
       "    <tr>\n",
       "      <th>0</th>\n",
       "      <td>C278C72C-63D6-4D42-B5A6-455FA2C80D7C</td>\n",
       "      <td>\"Cold emails not converting?\"</td>\n",
       "      <td>9F1BAD1D-0370-4200-0045-08D70B884EBA</td>\n",
       "      <td>8977EFF2-DCAD-4E29-B29C-BE55449D24A2</td>\n",
       "      <td>\"(UTC+00:00) Dublin, Edinburgh, Lisbon, London\"</td>\n",
       "      <td>9/9/20 11:34</td>\n",
       "      <td>0</td>\n",
       "    </tr>\n",
       "    <tr>\n",
       "      <th>1</th>\n",
       "      <td>F5CA7090-9A73-4197-9923-C094B140C4D1</td>\n",
       "      <td>\"Webnar: Cold emails not converting?\"</td>\n",
       "      <td>7FCE4E75-9A26-4EE6-7806-08D6CEFA3BFA</td>\n",
       "      <td>22A565BC-DC52-4CF5-8852-5C343F477F54</td>\n",
       "      <td>\"(UTC-06:00) Central Time (US &amp; Canada)\"</td>\n",
       "      <td>9/9/20 11:35</td>\n",
       "      <td>0</td>\n",
       "    </tr>\n",
       "    <tr>\n",
       "      <th>2</th>\n",
       "      <td>B4837C83-9425-4C77-907E-E3B318A5F0F0</td>\n",
       "      <td>\"Cold emails not converting?\"</td>\n",
       "      <td>9F1BAD1D-0370-4200-0045-08D70B884EBA</td>\n",
       "      <td>00E3A137-053F-4838-AB6F-4A8F6F52969A</td>\n",
       "      <td>\"(UTC+00:00) Dublin, Edinburgh, Lisbon, London\"</td>\n",
       "      <td>9/9/20 11:38</td>\n",
       "      <td>0</td>\n",
       "    </tr>\n",
       "    <tr>\n",
       "      <th>3</th>\n",
       "      <td>204546C3-073D-418E-98BD-E5553B339686</td>\n",
       "      <td>\"Webnar: Cold emails not converting?\"</td>\n",
       "      <td>7FCE4E75-9A26-4EE6-7806-08D6CEFA3BFA</td>\n",
       "      <td>9A13D123-10AA-46BF-B5C9-7199074DDD71</td>\n",
       "      <td>\"(UTC-05:00) Eastern Time (US &amp; Canada)\"</td>\n",
       "      <td>9/9/20 11:40</td>\n",
       "      <td>0</td>\n",
       "    </tr>\n",
       "    <tr>\n",
       "      <th>4</th>\n",
       "      <td>F28E3C17-0000-4549-9153-5896688E7581</td>\n",
       "      <td>\"Webnar: Cold emails not converting?\"</td>\n",
       "      <td>7FCE4E75-9A26-4EE6-7806-08D6CEFA3BFA</td>\n",
       "      <td>FA770B61-2BB3-44EB-A064-0F80CAD8E753</td>\n",
       "      <td>\"(UTC-06:00) Central Time (US &amp; Canada)\"</td>\n",
       "      <td>9/9/20 11:43</td>\n",
       "      <td>0</td>\n",
       "    </tr>\n",
       "    <tr>\n",
       "      <th>...</th>\n",
       "      <td>...</td>\n",
       "      <td>...</td>\n",
       "      <td>...</td>\n",
       "      <td>...</td>\n",
       "      <td>...</td>\n",
       "      <td>...</td>\n",
       "      <td>...</td>\n",
       "    </tr>\n",
       "    <tr>\n",
       "      <th>100139</th>\n",
       "      <td>2EA3A30E-D8DB-44E3-A8B3-CA7D9BA2633C</td>\n",
       "      <td>\"RE: Revenue Inbox | Sync integration for Sale...</td>\n",
       "      <td>FBCA1245-7297-41A8-1AB0-08D7856F3B8E</td>\n",
       "      <td>FEB418B4-D3FF-4B84-8703-E8A71478C11C</td>\n",
       "      <td>\"(UTC+00:00) Dublin, Edinburgh, Lisbon, London\"</td>\n",
       "      <td>7/1/21 11:48</td>\n",
       "      <td>1</td>\n",
       "    </tr>\n",
       "    <tr>\n",
       "      <th>100140</th>\n",
       "      <td>114E23DD-5386-40FA-B7C8-AFD80628FE4D</td>\n",
       "      <td>\"RE: Hi Jeffrey!\"</td>\n",
       "      <td>2B68B3E2-ADF7-4D0F-8F59-645C8CDF6EA6</td>\n",
       "      <td>748DFA05-47E9-4FB8-9EA3-0B5619CD6CB6</td>\n",
       "      <td>\"(UTC-05:00) Eastern Time (US &amp; Canada)\"</td>\n",
       "      <td>7/1/21 11:48</td>\n",
       "      <td>0</td>\n",
       "    </tr>\n",
       "    <tr>\n",
       "      <th>100141</th>\n",
       "      <td>6EE9027F-E9E5-476C-B1F4-F9A6433B5DDF</td>\n",
       "      <td>\"testy test\"</td>\n",
       "      <td>66C24EAB-51C7-4B5F-EFCA-08D6D3CCF2FF</td>\n",
       "      <td>E315C9A4-E5C4-484F-9278-6347BE3C2CD1</td>\n",
       "      <td>NaN</td>\n",
       "      <td>7/1/21 11:55</td>\n",
       "      <td>0</td>\n",
       "    </tr>\n",
       "    <tr>\n",
       "      <th>100142</th>\n",
       "      <td>DE170985-95AB-47B6-A077-B7B4BD6C6FF3</td>\n",
       "      <td>\"RE: Charlotte, thanks for signing up to Reven...</td>\n",
       "      <td>FBCA1245-7297-41A8-1AB0-08D7856F3B8E</td>\n",
       "      <td>793680C5-DDFD-41A8-9194-61B1AFC9D9F2</td>\n",
       "      <td>\"(UTC+00:00) Dublin, Edinburgh, Lisbon, London\"</td>\n",
       "      <td>7/1/21 11:55</td>\n",
       "      <td>0</td>\n",
       "    </tr>\n",
       "    <tr>\n",
       "      <th>100143</th>\n",
       "      <td>980A56CD-3649-4369-9497-A1D44AA73550</td>\n",
       "      <td>\"Michael, thank you for your interest in Reven...</td>\n",
       "      <td>66BCC422-78B0-4AE2-9D97-CACD6E60CC00</td>\n",
       "      <td>74E02258-2284-4856-BDE9-C493951FB555</td>\n",
       "      <td>\"(UTC-05:00) Eastern Time (US &amp; Canada)\"</td>\n",
       "      <td>7/1/21 12:01</td>\n",
       "      <td>0</td>\n",
       "    </tr>\n",
       "  </tbody>\n",
       "</table>\n",
       "<p>100144 rows × 7 columns</p>\n",
       "</div>"
      ],
      "text/plain": [
       "                                      MailID  \\\n",
       "0       C278C72C-63D6-4D42-B5A6-455FA2C80D7C   \n",
       "1       F5CA7090-9A73-4197-9923-C094B140C4D1   \n",
       "2       B4837C83-9425-4C77-907E-E3B318A5F0F0   \n",
       "3       204546C3-073D-418E-98BD-E5553B339686   \n",
       "4       F28E3C17-0000-4549-9153-5896688E7581   \n",
       "...                                      ...   \n",
       "100139  2EA3A30E-D8DB-44E3-A8B3-CA7D9BA2633C   \n",
       "100140  114E23DD-5386-40FA-B7C8-AFD80628FE4D   \n",
       "100141  6EE9027F-E9E5-476C-B1F4-F9A6433B5DDF   \n",
       "100142  DE170985-95AB-47B6-A077-B7B4BD6C6FF3   \n",
       "100143  980A56CD-3649-4369-9497-A1D44AA73550   \n",
       "\n",
       "                                                  Subject  \\\n",
       "0                           \"Cold emails not converting?\"   \n",
       "1                   \"Webnar: Cold emails not converting?\"   \n",
       "2                           \"Cold emails not converting?\"   \n",
       "3                   \"Webnar: Cold emails not converting?\"   \n",
       "4                   \"Webnar: Cold emails not converting?\"   \n",
       "...                                                   ...   \n",
       "100139  \"RE: Revenue Inbox | Sync integration for Sale...   \n",
       "100140                                  \"RE: Hi Jeffrey!\"   \n",
       "100141                                       \"testy test\"   \n",
       "100142  \"RE: Charlotte, thanks for signing up to Reven...   \n",
       "100143  \"Michael, thank you for your interest in Reven...   \n",
       "\n",
       "                                   MailBoxID  \\\n",
       "0       9F1BAD1D-0370-4200-0045-08D70B884EBA   \n",
       "1       7FCE4E75-9A26-4EE6-7806-08D6CEFA3BFA   \n",
       "2       9F1BAD1D-0370-4200-0045-08D70B884EBA   \n",
       "3       7FCE4E75-9A26-4EE6-7806-08D6CEFA3BFA   \n",
       "4       7FCE4E75-9A26-4EE6-7806-08D6CEFA3BFA   \n",
       "...                                      ...   \n",
       "100139  FBCA1245-7297-41A8-1AB0-08D7856F3B8E   \n",
       "100140  2B68B3E2-ADF7-4D0F-8F59-645C8CDF6EA6   \n",
       "100141  66C24EAB-51C7-4B5F-EFCA-08D6D3CCF2FF   \n",
       "100142  FBCA1245-7297-41A8-1AB0-08D7856F3B8E   \n",
       "100143  66BCC422-78B0-4AE2-9D97-CACD6E60CC00   \n",
       "\n",
       "                                   ContactID  \\\n",
       "0       8977EFF2-DCAD-4E29-B29C-BE55449D24A2   \n",
       "1       22A565BC-DC52-4CF5-8852-5C343F477F54   \n",
       "2       00E3A137-053F-4838-AB6F-4A8F6F52969A   \n",
       "3       9A13D123-10AA-46BF-B5C9-7199074DDD71   \n",
       "4       FA770B61-2BB3-44EB-A064-0F80CAD8E753   \n",
       "...                                      ...   \n",
       "100139  FEB418B4-D3FF-4B84-8703-E8A71478C11C   \n",
       "100140  748DFA05-47E9-4FB8-9EA3-0B5619CD6CB6   \n",
       "100141  E315C9A4-E5C4-484F-9278-6347BE3C2CD1   \n",
       "100142  793680C5-DDFD-41A8-9194-61B1AFC9D9F2   \n",
       "100143  74E02258-2284-4856-BDE9-C493951FB555   \n",
       "\n",
       "                                               TimeZone        SentOn  Opened  \n",
       "0       \"(UTC+00:00) Dublin, Edinburgh, Lisbon, London\"  9/9/20 11:34       0  \n",
       "1              \"(UTC-06:00) Central Time (US & Canada)\"  9/9/20 11:35       0  \n",
       "2       \"(UTC+00:00) Dublin, Edinburgh, Lisbon, London\"  9/9/20 11:38       0  \n",
       "3              \"(UTC-05:00) Eastern Time (US & Canada)\"  9/9/20 11:40       0  \n",
       "4              \"(UTC-06:00) Central Time (US & Canada)\"  9/9/20 11:43       0  \n",
       "...                                                 ...           ...     ...  \n",
       "100139  \"(UTC+00:00) Dublin, Edinburgh, Lisbon, London\"  7/1/21 11:48       1  \n",
       "100140         \"(UTC-05:00) Eastern Time (US & Canada)\"  7/1/21 11:48       0  \n",
       "100141                                              NaN  7/1/21 11:55       0  \n",
       "100142  \"(UTC+00:00) Dublin, Edinburgh, Lisbon, London\"  7/1/21 11:55       0  \n",
       "100143         \"(UTC-05:00) Eastern Time (US & Canada)\"  7/1/21 12:01       0  \n",
       "\n",
       "[100144 rows x 7 columns]"
      ]
     },
     "execution_count": 264,
     "metadata": {},
     "output_type": "execute_result"
    }
   ],
   "source": [
    "f"
   ]
  },
  {
   "cell_type": "code",
   "execution_count": 63,
   "metadata": {},
   "outputs": [
    {
     "data": {
      "text/html": [
       "<div>\n",
       "<style scoped>\n",
       "    .dataframe tbody tr th:only-of-type {\n",
       "        vertical-align: middle;\n",
       "    }\n",
       "\n",
       "    .dataframe tbody tr th {\n",
       "        vertical-align: top;\n",
       "    }\n",
       "\n",
       "    .dataframe thead th {\n",
       "        text-align: right;\n",
       "    }\n",
       "</style>\n",
       "<table border=\"1\" class=\"dataframe\">\n",
       "  <thead>\n",
       "    <tr style=\"text-align: right;\">\n",
       "      <th></th>\n",
       "      <th>MailID</th>\n",
       "      <th>Subject</th>\n",
       "      <th>MailBoxID</th>\n",
       "      <th>ContactID</th>\n",
       "      <th>TimeZone</th>\n",
       "      <th>SentOn</th>\n",
       "      <th>Opened</th>\n",
       "      <th>TimeDelta</th>\n",
       "      <th>SentOn_day</th>\n",
       "      <th>SentOn_dayofweek</th>\n",
       "      <th>SentOnWeekend</th>\n",
       "      <th>IsReply</th>\n",
       "    </tr>\n",
       "  </thead>\n",
       "  <tbody>\n",
       "    <tr>\n",
       "      <th>100139</th>\n",
       "      <td>2EA3A30E-D8DB-44E3-A8B3-CA7D9BA2633C</td>\n",
       "      <td>\"RE: Revenue Inbox | Sync integration for Sale...</td>\n",
       "      <td>FBCA1245-7297-41A8-1AB0-08D7856F3B8E</td>\n",
       "      <td>FEB418B4-D3FF-4B84-8703-E8A71478C11C</td>\n",
       "      <td>\"(UTC+00:00) Dublin, Edinburgh, Lisbon, London\"</td>\n",
       "      <td>2021-07-01 11:48:00</td>\n",
       "      <td>1</td>\n",
       "      <td>0 days 00:00:00</td>\n",
       "      <td>1</td>\n",
       "      <td>3</td>\n",
       "      <td>0</td>\n",
       "      <td>1</td>\n",
       "    </tr>\n",
       "    <tr>\n",
       "      <th>100140</th>\n",
       "      <td>114E23DD-5386-40FA-B7C8-AFD80628FE4D</td>\n",
       "      <td>\"RE: Hi Jeffrey!\"</td>\n",
       "      <td>2B68B3E2-ADF7-4D0F-8F59-645C8CDF6EA6</td>\n",
       "      <td>748DFA05-47E9-4FB8-9EA3-0B5619CD6CB6</td>\n",
       "      <td>\"(UTC-05:00) Eastern Time (US &amp; Canada)\"</td>\n",
       "      <td>2021-07-01 16:48:00</td>\n",
       "      <td>0</td>\n",
       "      <td>-1 days +19:00:00</td>\n",
       "      <td>1</td>\n",
       "      <td>3</td>\n",
       "      <td>0</td>\n",
       "      <td>1</td>\n",
       "    </tr>\n",
       "    <tr>\n",
       "      <th>100141</th>\n",
       "      <td>6EE9027F-E9E5-476C-B1F4-F9A6433B5DDF</td>\n",
       "      <td>\"testy test\"</td>\n",
       "      <td>66C24EAB-51C7-4B5F-EFCA-08D6D3CCF2FF</td>\n",
       "      <td>E315C9A4-E5C4-484F-9278-6347BE3C2CD1</td>\n",
       "      <td>NaN</td>\n",
       "      <td>2021-07-01 11:55:00</td>\n",
       "      <td>0</td>\n",
       "      <td>0 days 00:00:00</td>\n",
       "      <td>1</td>\n",
       "      <td>3</td>\n",
       "      <td>0</td>\n",
       "      <td>0</td>\n",
       "    </tr>\n",
       "    <tr>\n",
       "      <th>100142</th>\n",
       "      <td>DE170985-95AB-47B6-A077-B7B4BD6C6FF3</td>\n",
       "      <td>\"RE: Charlotte, thanks for signing up to Reven...</td>\n",
       "      <td>FBCA1245-7297-41A8-1AB0-08D7856F3B8E</td>\n",
       "      <td>793680C5-DDFD-41A8-9194-61B1AFC9D9F2</td>\n",
       "      <td>\"(UTC+00:00) Dublin, Edinburgh, Lisbon, London\"</td>\n",
       "      <td>2021-07-01 11:55:00</td>\n",
       "      <td>0</td>\n",
       "      <td>0 days 00:00:00</td>\n",
       "      <td>1</td>\n",
       "      <td>3</td>\n",
       "      <td>0</td>\n",
       "      <td>1</td>\n",
       "    </tr>\n",
       "    <tr>\n",
       "      <th>100143</th>\n",
       "      <td>980A56CD-3649-4369-9497-A1D44AA73550</td>\n",
       "      <td>\"Michael, thank you for your interest in Reven...</td>\n",
       "      <td>66BCC422-78B0-4AE2-9D97-CACD6E60CC00</td>\n",
       "      <td>74E02258-2284-4856-BDE9-C493951FB555</td>\n",
       "      <td>\"(UTC-05:00) Eastern Time (US &amp; Canada)\"</td>\n",
       "      <td>2021-07-01 17:01:00</td>\n",
       "      <td>0</td>\n",
       "      <td>-1 days +19:00:00</td>\n",
       "      <td>1</td>\n",
       "      <td>3</td>\n",
       "      <td>0</td>\n",
       "      <td>0</td>\n",
       "    </tr>\n",
       "  </tbody>\n",
       "</table>\n",
       "</div>"
      ],
      "text/plain": [
       "                                      MailID  \\\n",
       "100139  2EA3A30E-D8DB-44E3-A8B3-CA7D9BA2633C   \n",
       "100140  114E23DD-5386-40FA-B7C8-AFD80628FE4D   \n",
       "100141  6EE9027F-E9E5-476C-B1F4-F9A6433B5DDF   \n",
       "100142  DE170985-95AB-47B6-A077-B7B4BD6C6FF3   \n",
       "100143  980A56CD-3649-4369-9497-A1D44AA73550   \n",
       "\n",
       "                                                  Subject  \\\n",
       "100139  \"RE: Revenue Inbox | Sync integration for Sale...   \n",
       "100140                                  \"RE: Hi Jeffrey!\"   \n",
       "100141                                       \"testy test\"   \n",
       "100142  \"RE: Charlotte, thanks for signing up to Reven...   \n",
       "100143  \"Michael, thank you for your interest in Reven...   \n",
       "\n",
       "                                   MailBoxID  \\\n",
       "100139  FBCA1245-7297-41A8-1AB0-08D7856F3B8E   \n",
       "100140  2B68B3E2-ADF7-4D0F-8F59-645C8CDF6EA6   \n",
       "100141  66C24EAB-51C7-4B5F-EFCA-08D6D3CCF2FF   \n",
       "100142  FBCA1245-7297-41A8-1AB0-08D7856F3B8E   \n",
       "100143  66BCC422-78B0-4AE2-9D97-CACD6E60CC00   \n",
       "\n",
       "                                   ContactID  \\\n",
       "100139  FEB418B4-D3FF-4B84-8703-E8A71478C11C   \n",
       "100140  748DFA05-47E9-4FB8-9EA3-0B5619CD6CB6   \n",
       "100141  E315C9A4-E5C4-484F-9278-6347BE3C2CD1   \n",
       "100142  793680C5-DDFD-41A8-9194-61B1AFC9D9F2   \n",
       "100143  74E02258-2284-4856-BDE9-C493951FB555   \n",
       "\n",
       "                                               TimeZone              SentOn  \\\n",
       "100139  \"(UTC+00:00) Dublin, Edinburgh, Lisbon, London\" 2021-07-01 11:48:00   \n",
       "100140         \"(UTC-05:00) Eastern Time (US & Canada)\" 2021-07-01 16:48:00   \n",
       "100141                                              NaN 2021-07-01 11:55:00   \n",
       "100142  \"(UTC+00:00) Dublin, Edinburgh, Lisbon, London\" 2021-07-01 11:55:00   \n",
       "100143         \"(UTC-05:00) Eastern Time (US & Canada)\" 2021-07-01 17:01:00   \n",
       "\n",
       "        Opened         TimeDelta  SentOn_day  SentOn_dayofweek  SentOnWeekend  \\\n",
       "100139       1   0 days 00:00:00           1                 3              0   \n",
       "100140       0 -1 days +19:00:00           1                 3              0   \n",
       "100141       0   0 days 00:00:00           1                 3              0   \n",
       "100142       0   0 days 00:00:00           1                 3              0   \n",
       "100143       0 -1 days +19:00:00           1                 3              0   \n",
       "\n",
       "       IsReply  \n",
       "100139       1  \n",
       "100140       1  \n",
       "100141       0  \n",
       "100142       1  \n",
       "100143       0  "
      ]
     },
     "execution_count": 63,
     "metadata": {},
     "output_type": "execute_result"
    }
   ],
   "source": [
    "df.tail()"
   ]
  },
  {
   "cell_type": "code",
   "execution_count": null,
   "metadata": {},
   "outputs": [],
   "source": [
    "df['Opened'].value_counts()"
   ]
  },
  {
   "cell_type": "code",
   "execution_count": 3,
   "metadata": {},
   "outputs": [],
   "source": [
    "def calc_prevalence(y):\n",
    "    return (sum(y)/len(y))"
   ]
  },
  {
   "cell_type": "code",
   "execution_count": 4,
   "metadata": {
    "scrolled": true
   },
   "outputs": [
    {
     "data": {
      "text/plain": [
       "0.31730308355967407"
      ]
     },
     "execution_count": 4,
     "metadata": {},
     "output_type": "execute_result"
    }
   ],
   "source": [
    "calc_prevalence(df['Opened'].values)"
   ]
  },
  {
   "cell_type": "markdown",
   "metadata": {},
   "source": [
    "# Convert Data"
   ]
  },
  {
   "cell_type": "code",
   "execution_count": 5,
   "metadata": {},
   "outputs": [],
   "source": [
    "df[\"SentOn\"] = pd.to_datetime(df.SentOn)"
   ]
  },
  {
   "cell_type": "code",
   "execution_count": 7,
   "metadata": {},
   "outputs": [],
   "source": [
    "d = pd.read_csv('/Users/Ozhyna/Code/MailPrediction/emailsendtime/email_best_send_time_train.csv')\n",
    "df['TimeZone'] = d['TimeZone']"
   ]
  },
  {
   "cell_type": "markdown",
   "metadata": {},
   "source": [
    "# Calculate TimeDelta"
   ]
  },
  {
   "cell_type": "code",
   "execution_count": 27,
   "metadata": {
    "scrolled": true
   },
   "outputs": [],
   "source": [
    "def CalcDelta(timezone):\n",
    "    D = []\n",
    "    for idx, val in timezone.items():\n",
    "        if val is np.nan:\n",
    "            #print('here')\n",
    "            D.append(pd.Timedelta(hours=0, minutes=0))\n",
    "            continue\n",
    "        time = re.search('[+-].*\\d',val).group().split(':')\n",
    "        #print(idx, time)\n",
    "        h = int(time[0])\n",
    "        m = int(time[1])\n",
    "        #print(h,m)\n",
    "        d = pd.Timedelta(hours=h, minutes=m)\n",
    "        D.append(d)\n",
    "    return D"
   ]
  },
  {
   "cell_type": "code",
   "execution_count": 29,
   "metadata": {},
   "outputs": [],
   "source": [
    "df['TimeDelta'] = CalcDelta(df['TimeZone'])"
   ]
  },
  {
   "cell_type": "code",
   "execution_count": 31,
   "metadata": {},
   "outputs": [],
   "source": [
    "df[\"SentOn\"] = df[\"SentOn\"] - df['TimeDelta']"
   ]
  },
  {
   "cell_type": "code",
   "execution_count": 33,
   "metadata": {},
   "outputs": [],
   "source": [
    "df['SentOn_day'] = df['SentOn'].dt.day"
   ]
  },
  {
   "cell_type": "code",
   "execution_count": 34,
   "metadata": {},
   "outputs": [],
   "source": [
    "df['SentOn_dayofweek'] = df['SentOn'].dt.dayofweek"
   ]
  },
  {
   "cell_type": "code",
   "execution_count": 47,
   "metadata": {},
   "outputs": [],
   "source": [
    "df['SentOnWeekend'] = 0\n",
    "df.loc[df['SentOn_dayofweek'] == 6, 'SentOnWeekend'] = 1\n",
    "df.loc[df['SentOn_dayofweek'] == 5, 'SentOnWeekend'] = 1"
   ]
  },
  {
   "cell_type": "markdown",
   "metadata": {},
   "source": [
    "# Check if IsReply"
   ]
  },
  {
   "cell_type": "code",
   "execution_count": 52,
   "metadata": {},
   "outputs": [],
   "source": [
    "df['IsReply'] = 0\n",
    "df['IsReply'] = list(map(lambda x: x.startswith('\"RE:'), df['Subject']))"
   ]
  },
  {
   "cell_type": "code",
   "execution_count": 55,
   "metadata": {
    "scrolled": true
   },
   "outputs": [],
   "source": [
    "df['IsReply'].loc[df['IsReply'] == True] = 1\n",
    "df['IsReply'].loc[df['IsReply'] == False] = 0"
   ]
  },
  {
   "cell_type": "code",
   "execution_count": 60,
   "metadata": {
    "scrolled": false
   },
   "outputs": [
    {
     "data": {
      "text/plain": [
       "1    61982\n",
       "0    38162\n",
       "Name: IsReply, dtype: int64"
      ]
     },
     "execution_count": 60,
     "metadata": {},
     "output_type": "execute_result"
    }
   ],
   "source": [
    "df['IsReply'].value_counts()"
   ]
  },
  {
   "cell_type": "code",
   "execution_count": 265,
   "metadata": {},
   "outputs": [
    {
     "data": {
      "text/html": [
       "<div>\n",
       "<style scoped>\n",
       "    .dataframe tbody tr th:only-of-type {\n",
       "        vertical-align: middle;\n",
       "    }\n",
       "\n",
       "    .dataframe tbody tr th {\n",
       "        vertical-align: top;\n",
       "    }\n",
       "\n",
       "    .dataframe thead th {\n",
       "        text-align: right;\n",
       "    }\n",
       "</style>\n",
       "<table border=\"1\" class=\"dataframe\">\n",
       "  <thead>\n",
       "    <tr style=\"text-align: right;\">\n",
       "      <th></th>\n",
       "      <th>MailID</th>\n",
       "      <th>Subject</th>\n",
       "      <th>MailBoxID</th>\n",
       "      <th>ContactID</th>\n",
       "      <th>TimeZone</th>\n",
       "      <th>SentOn</th>\n",
       "      <th>Opened</th>\n",
       "      <th>TimeDelta</th>\n",
       "      <th>SentOn_day</th>\n",
       "      <th>SentOn_dayofweek</th>\n",
       "      <th>SentOnWeekend</th>\n",
       "      <th>IsReply</th>\n",
       "      <th>Responsiveness</th>\n",
       "      <th>VectorizedText</th>\n",
       "    </tr>\n",
       "  </thead>\n",
       "  <tbody>\n",
       "    <tr>\n",
       "      <th>0</th>\n",
       "      <td>C278C72C-63D6-4D42-B5A6-455FA2C80D7C</td>\n",
       "      <td>\"Cold emails not converting?\"</td>\n",
       "      <td>9F1BAD1D-0370-4200-0045-08D70B884EBA</td>\n",
       "      <td>8977EFF2-DCAD-4E29-B29C-BE55449D24A2</td>\n",
       "      <td>\"(UTC+00:00) Dublin, Edinburgh, Lisbon, London\"</td>\n",
       "      <td>2020-09-09 11:34:00</td>\n",
       "      <td>0</td>\n",
       "      <td>0 days 00:00:00</td>\n",
       "      <td>9</td>\n",
       "      <td>2</td>\n",
       "      <td>0</td>\n",
       "      <td>0</td>\n",
       "      <td>0.251229</td>\n",
       "      <td>(0, 1403)\\t1\\n  (0, 1449)\\t1\\n  (0, 2010)\\t1...</td>\n",
       "    </tr>\n",
       "    <tr>\n",
       "      <th>1</th>\n",
       "      <td>F5CA7090-9A73-4197-9923-C094B140C4D1</td>\n",
       "      <td>\"Webnar: Cold emails not converting?\"</td>\n",
       "      <td>7FCE4E75-9A26-4EE6-7806-08D6CEFA3BFA</td>\n",
       "      <td>22A565BC-DC52-4CF5-8852-5C343F477F54</td>\n",
       "      <td>\"(UTC-06:00) Central Time (US &amp; Canada)\"</td>\n",
       "      <td>2020-09-09 17:35:00</td>\n",
       "      <td>0</td>\n",
       "      <td>-1 days +18:00:00</td>\n",
       "      <td>9</td>\n",
       "      <td>2</td>\n",
       "      <td>0</td>\n",
       "      <td>0</td>\n",
       "      <td>0.349736</td>\n",
       "      <td>(0, 1403)\\t1\\n  (0, 1449)\\t1\\n  (0, 2010)\\t1...</td>\n",
       "    </tr>\n",
       "    <tr>\n",
       "      <th>2</th>\n",
       "      <td>B4837C83-9425-4C77-907E-E3B318A5F0F0</td>\n",
       "      <td>\"Cold emails not converting?\"</td>\n",
       "      <td>9F1BAD1D-0370-4200-0045-08D70B884EBA</td>\n",
       "      <td>00E3A137-053F-4838-AB6F-4A8F6F52969A</td>\n",
       "      <td>\"(UTC+00:00) Dublin, Edinburgh, Lisbon, London\"</td>\n",
       "      <td>2020-09-09 11:38:00</td>\n",
       "      <td>0</td>\n",
       "      <td>0 days 00:00:00</td>\n",
       "      <td>9</td>\n",
       "      <td>2</td>\n",
       "      <td>0</td>\n",
       "      <td>0</td>\n",
       "      <td>0.251229</td>\n",
       "      <td>(0, 1403)\\t1\\n  (0, 1449)\\t1\\n  (0, 2010)\\t1...</td>\n",
       "    </tr>\n",
       "    <tr>\n",
       "      <th>3</th>\n",
       "      <td>204546C3-073D-418E-98BD-E5553B339686</td>\n",
       "      <td>\"Webnar: Cold emails not converting?\"</td>\n",
       "      <td>7FCE4E75-9A26-4EE6-7806-08D6CEFA3BFA</td>\n",
       "      <td>9A13D123-10AA-46BF-B5C9-7199074DDD71</td>\n",
       "      <td>\"(UTC-05:00) Eastern Time (US &amp; Canada)\"</td>\n",
       "      <td>2020-09-09 16:40:00</td>\n",
       "      <td>0</td>\n",
       "      <td>-1 days +19:00:00</td>\n",
       "      <td>9</td>\n",
       "      <td>2</td>\n",
       "      <td>0</td>\n",
       "      <td>0</td>\n",
       "      <td>0.349736</td>\n",
       "      <td>(0, 1403)\\t1\\n  (0, 1449)\\t1\\n  (0, 2010)\\t1...</td>\n",
       "    </tr>\n",
       "    <tr>\n",
       "      <th>4</th>\n",
       "      <td>F28E3C17-0000-4549-9153-5896688E7581</td>\n",
       "      <td>\"Webnar: Cold emails not converting?\"</td>\n",
       "      <td>7FCE4E75-9A26-4EE6-7806-08D6CEFA3BFA</td>\n",
       "      <td>FA770B61-2BB3-44EB-A064-0F80CAD8E753</td>\n",
       "      <td>\"(UTC-06:00) Central Time (US &amp; Canada)\"</td>\n",
       "      <td>2020-09-09 17:43:00</td>\n",
       "      <td>0</td>\n",
       "      <td>-1 days +18:00:00</td>\n",
       "      <td>9</td>\n",
       "      <td>2</td>\n",
       "      <td>0</td>\n",
       "      <td>0</td>\n",
       "      <td>0.349736</td>\n",
       "      <td>(0, 1403)\\t1\\n  (0, 1449)\\t1\\n  (0, 2010)\\t1...</td>\n",
       "    </tr>\n",
       "    <tr>\n",
       "      <th>...</th>\n",
       "      <td>...</td>\n",
       "      <td>...</td>\n",
       "      <td>...</td>\n",
       "      <td>...</td>\n",
       "      <td>...</td>\n",
       "      <td>...</td>\n",
       "      <td>...</td>\n",
       "      <td>...</td>\n",
       "      <td>...</td>\n",
       "      <td>...</td>\n",
       "      <td>...</td>\n",
       "      <td>...</td>\n",
       "      <td>...</td>\n",
       "      <td>...</td>\n",
       "    </tr>\n",
       "    <tr>\n",
       "      <th>100139</th>\n",
       "      <td>2EA3A30E-D8DB-44E3-A8B3-CA7D9BA2633C</td>\n",
       "      <td>\"RE: Revenue Inbox | Sync integration for Sale...</td>\n",
       "      <td>FBCA1245-7297-41A8-1AB0-08D7856F3B8E</td>\n",
       "      <td>FEB418B4-D3FF-4B84-8703-E8A71478C11C</td>\n",
       "      <td>\"(UTC+00:00) Dublin, Edinburgh, Lisbon, London\"</td>\n",
       "      <td>2021-07-01 11:48:00</td>\n",
       "      <td>1</td>\n",
       "      <td>0 days 00:00:00</td>\n",
       "      <td>1</td>\n",
       "      <td>3</td>\n",
       "      <td>0</td>\n",
       "      <td>1</td>\n",
       "      <td>0.399028</td>\n",
       "      <td>(0, 1403)\\t1\\n  (0, 1449)\\t1\\n  (0, 2010)\\t1...</td>\n",
       "    </tr>\n",
       "    <tr>\n",
       "      <th>100140</th>\n",
       "      <td>114E23DD-5386-40FA-B7C8-AFD80628FE4D</td>\n",
       "      <td>\"RE: Hi Jeffrey!\"</td>\n",
       "      <td>2B68B3E2-ADF7-4D0F-8F59-645C8CDF6EA6</td>\n",
       "      <td>748DFA05-47E9-4FB8-9EA3-0B5619CD6CB6</td>\n",
       "      <td>\"(UTC-05:00) Eastern Time (US &amp; Canada)\"</td>\n",
       "      <td>2021-07-01 16:48:00</td>\n",
       "      <td>0</td>\n",
       "      <td>-1 days +19:00:00</td>\n",
       "      <td>1</td>\n",
       "      <td>3</td>\n",
       "      <td>0</td>\n",
       "      <td>1</td>\n",
       "      <td>0.291933</td>\n",
       "      <td>(0, 1403)\\t1\\n  (0, 1449)\\t1\\n  (0, 2010)\\t1...</td>\n",
       "    </tr>\n",
       "    <tr>\n",
       "      <th>100141</th>\n",
       "      <td>6EE9027F-E9E5-476C-B1F4-F9A6433B5DDF</td>\n",
       "      <td>\"testy test\"</td>\n",
       "      <td>66C24EAB-51C7-4B5F-EFCA-08D6D3CCF2FF</td>\n",
       "      <td>E315C9A4-E5C4-484F-9278-6347BE3C2CD1</td>\n",
       "      <td>NaN</td>\n",
       "      <td>2021-07-01 11:55:00</td>\n",
       "      <td>0</td>\n",
       "      <td>0 days 00:00:00</td>\n",
       "      <td>1</td>\n",
       "      <td>3</td>\n",
       "      <td>0</td>\n",
       "      <td>0</td>\n",
       "      <td>0.319608</td>\n",
       "      <td>(0, 1403)\\t1\\n  (0, 1449)\\t1\\n  (0, 2010)\\t1...</td>\n",
       "    </tr>\n",
       "    <tr>\n",
       "      <th>100142</th>\n",
       "      <td>DE170985-95AB-47B6-A077-B7B4BD6C6FF3</td>\n",
       "      <td>\"RE: Charlotte, thanks for signing up to Reven...</td>\n",
       "      <td>FBCA1245-7297-41A8-1AB0-08D7856F3B8E</td>\n",
       "      <td>793680C5-DDFD-41A8-9194-61B1AFC9D9F2</td>\n",
       "      <td>\"(UTC+00:00) Dublin, Edinburgh, Lisbon, London\"</td>\n",
       "      <td>2021-07-01 11:55:00</td>\n",
       "      <td>0</td>\n",
       "      <td>0 days 00:00:00</td>\n",
       "      <td>1</td>\n",
       "      <td>3</td>\n",
       "      <td>0</td>\n",
       "      <td>1</td>\n",
       "      <td>0.399028</td>\n",
       "      <td>(0, 1403)\\t1\\n  (0, 1449)\\t1\\n  (0, 2010)\\t1...</td>\n",
       "    </tr>\n",
       "    <tr>\n",
       "      <th>100143</th>\n",
       "      <td>980A56CD-3649-4369-9497-A1D44AA73550</td>\n",
       "      <td>\"Michael, thank you for your interest in Reven...</td>\n",
       "      <td>66BCC422-78B0-4AE2-9D97-CACD6E60CC00</td>\n",
       "      <td>74E02258-2284-4856-BDE9-C493951FB555</td>\n",
       "      <td>\"(UTC-05:00) Eastern Time (US &amp; Canada)\"</td>\n",
       "      <td>2021-07-01 17:01:00</td>\n",
       "      <td>0</td>\n",
       "      <td>-1 days +19:00:00</td>\n",
       "      <td>1</td>\n",
       "      <td>3</td>\n",
       "      <td>0</td>\n",
       "      <td>0</td>\n",
       "      <td>0.309401</td>\n",
       "      <td>(0, 1403)\\t1\\n  (0, 1449)\\t1\\n  (0, 2010)\\t1...</td>\n",
       "    </tr>\n",
       "  </tbody>\n",
       "</table>\n",
       "<p>100144 rows × 14 columns</p>\n",
       "</div>"
      ],
      "text/plain": [
       "                                      MailID  \\\n",
       "0       C278C72C-63D6-4D42-B5A6-455FA2C80D7C   \n",
       "1       F5CA7090-9A73-4197-9923-C094B140C4D1   \n",
       "2       B4837C83-9425-4C77-907E-E3B318A5F0F0   \n",
       "3       204546C3-073D-418E-98BD-E5553B339686   \n",
       "4       F28E3C17-0000-4549-9153-5896688E7581   \n",
       "...                                      ...   \n",
       "100139  2EA3A30E-D8DB-44E3-A8B3-CA7D9BA2633C   \n",
       "100140  114E23DD-5386-40FA-B7C8-AFD80628FE4D   \n",
       "100141  6EE9027F-E9E5-476C-B1F4-F9A6433B5DDF   \n",
       "100142  DE170985-95AB-47B6-A077-B7B4BD6C6FF3   \n",
       "100143  980A56CD-3649-4369-9497-A1D44AA73550   \n",
       "\n",
       "                                                  Subject  \\\n",
       "0                           \"Cold emails not converting?\"   \n",
       "1                   \"Webnar: Cold emails not converting?\"   \n",
       "2                           \"Cold emails not converting?\"   \n",
       "3                   \"Webnar: Cold emails not converting?\"   \n",
       "4                   \"Webnar: Cold emails not converting?\"   \n",
       "...                                                   ...   \n",
       "100139  \"RE: Revenue Inbox | Sync integration for Sale...   \n",
       "100140                                  \"RE: Hi Jeffrey!\"   \n",
       "100141                                       \"testy test\"   \n",
       "100142  \"RE: Charlotte, thanks for signing up to Reven...   \n",
       "100143  \"Michael, thank you for your interest in Reven...   \n",
       "\n",
       "                                   MailBoxID  \\\n",
       "0       9F1BAD1D-0370-4200-0045-08D70B884EBA   \n",
       "1       7FCE4E75-9A26-4EE6-7806-08D6CEFA3BFA   \n",
       "2       9F1BAD1D-0370-4200-0045-08D70B884EBA   \n",
       "3       7FCE4E75-9A26-4EE6-7806-08D6CEFA3BFA   \n",
       "4       7FCE4E75-9A26-4EE6-7806-08D6CEFA3BFA   \n",
       "...                                      ...   \n",
       "100139  FBCA1245-7297-41A8-1AB0-08D7856F3B8E   \n",
       "100140  2B68B3E2-ADF7-4D0F-8F59-645C8CDF6EA6   \n",
       "100141  66C24EAB-51C7-4B5F-EFCA-08D6D3CCF2FF   \n",
       "100142  FBCA1245-7297-41A8-1AB0-08D7856F3B8E   \n",
       "100143  66BCC422-78B0-4AE2-9D97-CACD6E60CC00   \n",
       "\n",
       "                                   ContactID  \\\n",
       "0       8977EFF2-DCAD-4E29-B29C-BE55449D24A2   \n",
       "1       22A565BC-DC52-4CF5-8852-5C343F477F54   \n",
       "2       00E3A137-053F-4838-AB6F-4A8F6F52969A   \n",
       "3       9A13D123-10AA-46BF-B5C9-7199074DDD71   \n",
       "4       FA770B61-2BB3-44EB-A064-0F80CAD8E753   \n",
       "...                                      ...   \n",
       "100139  FEB418B4-D3FF-4B84-8703-E8A71478C11C   \n",
       "100140  748DFA05-47E9-4FB8-9EA3-0B5619CD6CB6   \n",
       "100141  E315C9A4-E5C4-484F-9278-6347BE3C2CD1   \n",
       "100142  793680C5-DDFD-41A8-9194-61B1AFC9D9F2   \n",
       "100143  74E02258-2284-4856-BDE9-C493951FB555   \n",
       "\n",
       "                                               TimeZone              SentOn  \\\n",
       "0       \"(UTC+00:00) Dublin, Edinburgh, Lisbon, London\" 2020-09-09 11:34:00   \n",
       "1              \"(UTC-06:00) Central Time (US & Canada)\" 2020-09-09 17:35:00   \n",
       "2       \"(UTC+00:00) Dublin, Edinburgh, Lisbon, London\" 2020-09-09 11:38:00   \n",
       "3              \"(UTC-05:00) Eastern Time (US & Canada)\" 2020-09-09 16:40:00   \n",
       "4              \"(UTC-06:00) Central Time (US & Canada)\" 2020-09-09 17:43:00   \n",
       "...                                                 ...                 ...   \n",
       "100139  \"(UTC+00:00) Dublin, Edinburgh, Lisbon, London\" 2021-07-01 11:48:00   \n",
       "100140         \"(UTC-05:00) Eastern Time (US & Canada)\" 2021-07-01 16:48:00   \n",
       "100141                                              NaN 2021-07-01 11:55:00   \n",
       "100142  \"(UTC+00:00) Dublin, Edinburgh, Lisbon, London\" 2021-07-01 11:55:00   \n",
       "100143         \"(UTC-05:00) Eastern Time (US & Canada)\" 2021-07-01 17:01:00   \n",
       "\n",
       "        Opened         TimeDelta  SentOn_day  SentOn_dayofweek  SentOnWeekend  \\\n",
       "0            0   0 days 00:00:00           9                 2              0   \n",
       "1            0 -1 days +18:00:00           9                 2              0   \n",
       "2            0   0 days 00:00:00           9                 2              0   \n",
       "3            0 -1 days +19:00:00           9                 2              0   \n",
       "4            0 -1 days +18:00:00           9                 2              0   \n",
       "...        ...               ...         ...               ...            ...   \n",
       "100139       1   0 days 00:00:00           1                 3              0   \n",
       "100140       0 -1 days +19:00:00           1                 3              0   \n",
       "100141       0   0 days 00:00:00           1                 3              0   \n",
       "100142       0   0 days 00:00:00           1                 3              0   \n",
       "100143       0 -1 days +19:00:00           1                 3              0   \n",
       "\n",
       "       IsReply  Responsiveness  \\\n",
       "0            0        0.251229   \n",
       "1            0        0.349736   \n",
       "2            0        0.251229   \n",
       "3            0        0.349736   \n",
       "4            0        0.349736   \n",
       "...        ...             ...   \n",
       "100139       1        0.399028   \n",
       "100140       1        0.291933   \n",
       "100141       0        0.319608   \n",
       "100142       1        0.399028   \n",
       "100143       0        0.309401   \n",
       "\n",
       "                                           VectorizedText  \n",
       "0         (0, 1403)\\t1\\n  (0, 1449)\\t1\\n  (0, 2010)\\t1...  \n",
       "1         (0, 1403)\\t1\\n  (0, 1449)\\t1\\n  (0, 2010)\\t1...  \n",
       "2         (0, 1403)\\t1\\n  (0, 1449)\\t1\\n  (0, 2010)\\t1...  \n",
       "3         (0, 1403)\\t1\\n  (0, 1449)\\t1\\n  (0, 2010)\\t1...  \n",
       "4         (0, 1403)\\t1\\n  (0, 1449)\\t1\\n  (0, 2010)\\t1...  \n",
       "...                                                   ...  \n",
       "100139    (0, 1403)\\t1\\n  (0, 1449)\\t1\\n  (0, 2010)\\t1...  \n",
       "100140    (0, 1403)\\t1\\n  (0, 1449)\\t1\\n  (0, 2010)\\t1...  \n",
       "100141    (0, 1403)\\t1\\n  (0, 1449)\\t1\\n  (0, 2010)\\t1...  \n",
       "100142    (0, 1403)\\t1\\n  (0, 1449)\\t1\\n  (0, 2010)\\t1...  \n",
       "100143    (0, 1403)\\t1\\n  (0, 1449)\\t1\\n  (0, 2010)\\t1...  \n",
       "\n",
       "[100144 rows x 14 columns]"
      ]
     },
     "execution_count": 265,
     "metadata": {},
     "output_type": "execute_result"
    }
   ],
   "source": [
    "df"
   ]
  },
  {
   "cell_type": "markdown",
   "metadata": {},
   "source": [
    "# See if person is responsive"
   ]
  },
  {
   "cell_type": "code",
   "execution_count": 88,
   "metadata": {},
   "outputs": [
    {
     "data": {
      "text/plain": [
       "29"
      ]
     },
     "execution_count": 88,
     "metadata": {},
     "output_type": "execute_result"
    }
   ],
   "source": [
    "unique_id = df.MailBoxID.unique()\n",
    "len(unique_id)"
   ]
  },
  {
   "cell_type": "code",
   "execution_count": 97,
   "metadata": {},
   "outputs": [],
   "source": [
    "unique_id = df.MailBoxID.unique()\n",
    "d = {}\n",
    "for id in unique_id:\n",
    "    person = df[df['MailBoxID']==id]\n",
    "    n = person['Opened'].value_counts()\n",
    "    try:\n",
    "        responsiveness = n[1]/(n[0]+n[1])\n",
    "    except:\n",
    "        responsiveness = 1/(n[0]+1)\n",
    "    d[id] = responsiveness"
   ]
  },
  {
   "cell_type": "code",
   "execution_count": 101,
   "metadata": {},
   "outputs": [],
   "source": [
    "df['Responsiveness'] = df['MailBoxID'].map(d)"
   ]
  },
  {
   "cell_type": "code",
   "execution_count": 190,
   "metadata": {},
   "outputs": [
    {
     "data": {
      "text/html": [
       "<div>\n",
       "<style scoped>\n",
       "    .dataframe tbody tr th:only-of-type {\n",
       "        vertical-align: middle;\n",
       "    }\n",
       "\n",
       "    .dataframe tbody tr th {\n",
       "        vertical-align: top;\n",
       "    }\n",
       "\n",
       "    .dataframe thead th {\n",
       "        text-align: right;\n",
       "    }\n",
       "</style>\n",
       "<table border=\"1\" class=\"dataframe\">\n",
       "  <thead>\n",
       "    <tr style=\"text-align: right;\">\n",
       "      <th></th>\n",
       "      <th>MailID</th>\n",
       "      <th>Subject</th>\n",
       "      <th>MailBoxID</th>\n",
       "      <th>ContactID</th>\n",
       "      <th>TimeZone</th>\n",
       "      <th>SentOn</th>\n",
       "      <th>Opened</th>\n",
       "      <th>TimeDelta</th>\n",
       "      <th>SentOn_day</th>\n",
       "      <th>SentOn_dayofweek</th>\n",
       "      <th>SentOnWeekend</th>\n",
       "      <th>IsReply</th>\n",
       "      <th>Responsiveness</th>\n",
       "      <th>VectorizedText</th>\n",
       "    </tr>\n",
       "  </thead>\n",
       "  <tbody>\n",
       "    <tr>\n",
       "      <th>0</th>\n",
       "      <td>C278C72C-63D6-4D42-B5A6-455FA2C80D7C</td>\n",
       "      <td>\"Cold emails not converting?\"</td>\n",
       "      <td>9F1BAD1D-0370-4200-0045-08D70B884EBA</td>\n",
       "      <td>8977EFF2-DCAD-4E29-B29C-BE55449D24A2</td>\n",
       "      <td>\"(UTC+00:00) Dublin, Edinburgh, Lisbon, London\"</td>\n",
       "      <td>2020-09-09 11:34:00</td>\n",
       "      <td>0</td>\n",
       "      <td>0 days 00:00:00</td>\n",
       "      <td>9</td>\n",
       "      <td>2</td>\n",
       "      <td>0</td>\n",
       "      <td>0</td>\n",
       "      <td>0.251229</td>\n",
       "      <td>(0, 1403)\\t1\\n  (0, 1449)\\t1\\n  (0, 2010)\\t1...</td>\n",
       "    </tr>\n",
       "    <tr>\n",
       "      <th>1</th>\n",
       "      <td>F5CA7090-9A73-4197-9923-C094B140C4D1</td>\n",
       "      <td>\"Webnar: Cold emails not converting?\"</td>\n",
       "      <td>7FCE4E75-9A26-4EE6-7806-08D6CEFA3BFA</td>\n",
       "      <td>22A565BC-DC52-4CF5-8852-5C343F477F54</td>\n",
       "      <td>\"(UTC-06:00) Central Time (US &amp; Canada)\"</td>\n",
       "      <td>2020-09-09 17:35:00</td>\n",
       "      <td>0</td>\n",
       "      <td>-1 days +18:00:00</td>\n",
       "      <td>9</td>\n",
       "      <td>2</td>\n",
       "      <td>0</td>\n",
       "      <td>0</td>\n",
       "      <td>0.349736</td>\n",
       "      <td>(0, 1403)\\t1\\n  (0, 1449)\\t1\\n  (0, 2010)\\t1...</td>\n",
       "    </tr>\n",
       "    <tr>\n",
       "      <th>2</th>\n",
       "      <td>B4837C83-9425-4C77-907E-E3B318A5F0F0</td>\n",
       "      <td>\"Cold emails not converting?\"</td>\n",
       "      <td>9F1BAD1D-0370-4200-0045-08D70B884EBA</td>\n",
       "      <td>00E3A137-053F-4838-AB6F-4A8F6F52969A</td>\n",
       "      <td>\"(UTC+00:00) Dublin, Edinburgh, Lisbon, London\"</td>\n",
       "      <td>2020-09-09 11:38:00</td>\n",
       "      <td>0</td>\n",
       "      <td>0 days 00:00:00</td>\n",
       "      <td>9</td>\n",
       "      <td>2</td>\n",
       "      <td>0</td>\n",
       "      <td>0</td>\n",
       "      <td>0.251229</td>\n",
       "      <td>(0, 1403)\\t1\\n  (0, 1449)\\t1\\n  (0, 2010)\\t1...</td>\n",
       "    </tr>\n",
       "    <tr>\n",
       "      <th>3</th>\n",
       "      <td>204546C3-073D-418E-98BD-E5553B339686</td>\n",
       "      <td>\"Webnar: Cold emails not converting?\"</td>\n",
       "      <td>7FCE4E75-9A26-4EE6-7806-08D6CEFA3BFA</td>\n",
       "      <td>9A13D123-10AA-46BF-B5C9-7199074DDD71</td>\n",
       "      <td>\"(UTC-05:00) Eastern Time (US &amp; Canada)\"</td>\n",
       "      <td>2020-09-09 16:40:00</td>\n",
       "      <td>0</td>\n",
       "      <td>-1 days +19:00:00</td>\n",
       "      <td>9</td>\n",
       "      <td>2</td>\n",
       "      <td>0</td>\n",
       "      <td>0</td>\n",
       "      <td>0.349736</td>\n",
       "      <td>(0, 1403)\\t1\\n  (0, 1449)\\t1\\n  (0, 2010)\\t1...</td>\n",
       "    </tr>\n",
       "    <tr>\n",
       "      <th>4</th>\n",
       "      <td>F28E3C17-0000-4549-9153-5896688E7581</td>\n",
       "      <td>\"Webnar: Cold emails not converting?\"</td>\n",
       "      <td>7FCE4E75-9A26-4EE6-7806-08D6CEFA3BFA</td>\n",
       "      <td>FA770B61-2BB3-44EB-A064-0F80CAD8E753</td>\n",
       "      <td>\"(UTC-06:00) Central Time (US &amp; Canada)\"</td>\n",
       "      <td>2020-09-09 17:43:00</td>\n",
       "      <td>0</td>\n",
       "      <td>-1 days +18:00:00</td>\n",
       "      <td>9</td>\n",
       "      <td>2</td>\n",
       "      <td>0</td>\n",
       "      <td>0</td>\n",
       "      <td>0.349736</td>\n",
       "      <td>(0, 1403)\\t1\\n  (0, 1449)\\t1\\n  (0, 2010)\\t1...</td>\n",
       "    </tr>\n",
       "    <tr>\n",
       "      <th>...</th>\n",
       "      <td>...</td>\n",
       "      <td>...</td>\n",
       "      <td>...</td>\n",
       "      <td>...</td>\n",
       "      <td>...</td>\n",
       "      <td>...</td>\n",
       "      <td>...</td>\n",
       "      <td>...</td>\n",
       "      <td>...</td>\n",
       "      <td>...</td>\n",
       "      <td>...</td>\n",
       "      <td>...</td>\n",
       "      <td>...</td>\n",
       "      <td>...</td>\n",
       "    </tr>\n",
       "    <tr>\n",
       "      <th>100139</th>\n",
       "      <td>2EA3A30E-D8DB-44E3-A8B3-CA7D9BA2633C</td>\n",
       "      <td>\"RE: Revenue Inbox | Sync integration for Sale...</td>\n",
       "      <td>FBCA1245-7297-41A8-1AB0-08D7856F3B8E</td>\n",
       "      <td>FEB418B4-D3FF-4B84-8703-E8A71478C11C</td>\n",
       "      <td>\"(UTC+00:00) Dublin, Edinburgh, Lisbon, London\"</td>\n",
       "      <td>2021-07-01 11:48:00</td>\n",
       "      <td>1</td>\n",
       "      <td>0 days 00:00:00</td>\n",
       "      <td>1</td>\n",
       "      <td>3</td>\n",
       "      <td>0</td>\n",
       "      <td>1</td>\n",
       "      <td>0.399028</td>\n",
       "      <td>(0, 1403)\\t1\\n  (0, 1449)\\t1\\n  (0, 2010)\\t1...</td>\n",
       "    </tr>\n",
       "    <tr>\n",
       "      <th>100140</th>\n",
       "      <td>114E23DD-5386-40FA-B7C8-AFD80628FE4D</td>\n",
       "      <td>\"RE: Hi Jeffrey!\"</td>\n",
       "      <td>2B68B3E2-ADF7-4D0F-8F59-645C8CDF6EA6</td>\n",
       "      <td>748DFA05-47E9-4FB8-9EA3-0B5619CD6CB6</td>\n",
       "      <td>\"(UTC-05:00) Eastern Time (US &amp; Canada)\"</td>\n",
       "      <td>2021-07-01 16:48:00</td>\n",
       "      <td>0</td>\n",
       "      <td>-1 days +19:00:00</td>\n",
       "      <td>1</td>\n",
       "      <td>3</td>\n",
       "      <td>0</td>\n",
       "      <td>1</td>\n",
       "      <td>0.291933</td>\n",
       "      <td>(0, 1403)\\t1\\n  (0, 1449)\\t1\\n  (0, 2010)\\t1...</td>\n",
       "    </tr>\n",
       "    <tr>\n",
       "      <th>100141</th>\n",
       "      <td>6EE9027F-E9E5-476C-B1F4-F9A6433B5DDF</td>\n",
       "      <td>\"testy test\"</td>\n",
       "      <td>66C24EAB-51C7-4B5F-EFCA-08D6D3CCF2FF</td>\n",
       "      <td>E315C9A4-E5C4-484F-9278-6347BE3C2CD1</td>\n",
       "      <td>NaN</td>\n",
       "      <td>2021-07-01 11:55:00</td>\n",
       "      <td>0</td>\n",
       "      <td>0 days 00:00:00</td>\n",
       "      <td>1</td>\n",
       "      <td>3</td>\n",
       "      <td>0</td>\n",
       "      <td>0</td>\n",
       "      <td>0.319608</td>\n",
       "      <td>(0, 1403)\\t1\\n  (0, 1449)\\t1\\n  (0, 2010)\\t1...</td>\n",
       "    </tr>\n",
       "    <tr>\n",
       "      <th>100142</th>\n",
       "      <td>DE170985-95AB-47B6-A077-B7B4BD6C6FF3</td>\n",
       "      <td>\"RE: Charlotte, thanks for signing up to Reven...</td>\n",
       "      <td>FBCA1245-7297-41A8-1AB0-08D7856F3B8E</td>\n",
       "      <td>793680C5-DDFD-41A8-9194-61B1AFC9D9F2</td>\n",
       "      <td>\"(UTC+00:00) Dublin, Edinburgh, Lisbon, London\"</td>\n",
       "      <td>2021-07-01 11:55:00</td>\n",
       "      <td>0</td>\n",
       "      <td>0 days 00:00:00</td>\n",
       "      <td>1</td>\n",
       "      <td>3</td>\n",
       "      <td>0</td>\n",
       "      <td>1</td>\n",
       "      <td>0.399028</td>\n",
       "      <td>(0, 1403)\\t1\\n  (0, 1449)\\t1\\n  (0, 2010)\\t1...</td>\n",
       "    </tr>\n",
       "    <tr>\n",
       "      <th>100143</th>\n",
       "      <td>980A56CD-3649-4369-9497-A1D44AA73550</td>\n",
       "      <td>\"Michael, thank you for your interest in Reven...</td>\n",
       "      <td>66BCC422-78B0-4AE2-9D97-CACD6E60CC00</td>\n",
       "      <td>74E02258-2284-4856-BDE9-C493951FB555</td>\n",
       "      <td>\"(UTC-05:00) Eastern Time (US &amp; Canada)\"</td>\n",
       "      <td>2021-07-01 17:01:00</td>\n",
       "      <td>0</td>\n",
       "      <td>-1 days +19:00:00</td>\n",
       "      <td>1</td>\n",
       "      <td>3</td>\n",
       "      <td>0</td>\n",
       "      <td>0</td>\n",
       "      <td>0.309401</td>\n",
       "      <td>(0, 1403)\\t1\\n  (0, 1449)\\t1\\n  (0, 2010)\\t1...</td>\n",
       "    </tr>\n",
       "  </tbody>\n",
       "</table>\n",
       "<p>100144 rows × 14 columns</p>\n",
       "</div>"
      ],
      "text/plain": [
       "                                      MailID  \\\n",
       "0       C278C72C-63D6-4D42-B5A6-455FA2C80D7C   \n",
       "1       F5CA7090-9A73-4197-9923-C094B140C4D1   \n",
       "2       B4837C83-9425-4C77-907E-E3B318A5F0F0   \n",
       "3       204546C3-073D-418E-98BD-E5553B339686   \n",
       "4       F28E3C17-0000-4549-9153-5896688E7581   \n",
       "...                                      ...   \n",
       "100139  2EA3A30E-D8DB-44E3-A8B3-CA7D9BA2633C   \n",
       "100140  114E23DD-5386-40FA-B7C8-AFD80628FE4D   \n",
       "100141  6EE9027F-E9E5-476C-B1F4-F9A6433B5DDF   \n",
       "100142  DE170985-95AB-47B6-A077-B7B4BD6C6FF3   \n",
       "100143  980A56CD-3649-4369-9497-A1D44AA73550   \n",
       "\n",
       "                                                  Subject  \\\n",
       "0                           \"Cold emails not converting?\"   \n",
       "1                   \"Webnar: Cold emails not converting?\"   \n",
       "2                           \"Cold emails not converting?\"   \n",
       "3                   \"Webnar: Cold emails not converting?\"   \n",
       "4                   \"Webnar: Cold emails not converting?\"   \n",
       "...                                                   ...   \n",
       "100139  \"RE: Revenue Inbox | Sync integration for Sale...   \n",
       "100140                                  \"RE: Hi Jeffrey!\"   \n",
       "100141                                       \"testy test\"   \n",
       "100142  \"RE: Charlotte, thanks for signing up to Reven...   \n",
       "100143  \"Michael, thank you for your interest in Reven...   \n",
       "\n",
       "                                   MailBoxID  \\\n",
       "0       9F1BAD1D-0370-4200-0045-08D70B884EBA   \n",
       "1       7FCE4E75-9A26-4EE6-7806-08D6CEFA3BFA   \n",
       "2       9F1BAD1D-0370-4200-0045-08D70B884EBA   \n",
       "3       7FCE4E75-9A26-4EE6-7806-08D6CEFA3BFA   \n",
       "4       7FCE4E75-9A26-4EE6-7806-08D6CEFA3BFA   \n",
       "...                                      ...   \n",
       "100139  FBCA1245-7297-41A8-1AB0-08D7856F3B8E   \n",
       "100140  2B68B3E2-ADF7-4D0F-8F59-645C8CDF6EA6   \n",
       "100141  66C24EAB-51C7-4B5F-EFCA-08D6D3CCF2FF   \n",
       "100142  FBCA1245-7297-41A8-1AB0-08D7856F3B8E   \n",
       "100143  66BCC422-78B0-4AE2-9D97-CACD6E60CC00   \n",
       "\n",
       "                                   ContactID  \\\n",
       "0       8977EFF2-DCAD-4E29-B29C-BE55449D24A2   \n",
       "1       22A565BC-DC52-4CF5-8852-5C343F477F54   \n",
       "2       00E3A137-053F-4838-AB6F-4A8F6F52969A   \n",
       "3       9A13D123-10AA-46BF-B5C9-7199074DDD71   \n",
       "4       FA770B61-2BB3-44EB-A064-0F80CAD8E753   \n",
       "...                                      ...   \n",
       "100139  FEB418B4-D3FF-4B84-8703-E8A71478C11C   \n",
       "100140  748DFA05-47E9-4FB8-9EA3-0B5619CD6CB6   \n",
       "100141  E315C9A4-E5C4-484F-9278-6347BE3C2CD1   \n",
       "100142  793680C5-DDFD-41A8-9194-61B1AFC9D9F2   \n",
       "100143  74E02258-2284-4856-BDE9-C493951FB555   \n",
       "\n",
       "                                               TimeZone              SentOn  \\\n",
       "0       \"(UTC+00:00) Dublin, Edinburgh, Lisbon, London\" 2020-09-09 11:34:00   \n",
       "1              \"(UTC-06:00) Central Time (US & Canada)\" 2020-09-09 17:35:00   \n",
       "2       \"(UTC+00:00) Dublin, Edinburgh, Lisbon, London\" 2020-09-09 11:38:00   \n",
       "3              \"(UTC-05:00) Eastern Time (US & Canada)\" 2020-09-09 16:40:00   \n",
       "4              \"(UTC-06:00) Central Time (US & Canada)\" 2020-09-09 17:43:00   \n",
       "...                                                 ...                 ...   \n",
       "100139  \"(UTC+00:00) Dublin, Edinburgh, Lisbon, London\" 2021-07-01 11:48:00   \n",
       "100140         \"(UTC-05:00) Eastern Time (US & Canada)\" 2021-07-01 16:48:00   \n",
       "100141                                              NaN 2021-07-01 11:55:00   \n",
       "100142  \"(UTC+00:00) Dublin, Edinburgh, Lisbon, London\" 2021-07-01 11:55:00   \n",
       "100143         \"(UTC-05:00) Eastern Time (US & Canada)\" 2021-07-01 17:01:00   \n",
       "\n",
       "        Opened         TimeDelta  SentOn_day  SentOn_dayofweek  SentOnWeekend  \\\n",
       "0            0   0 days 00:00:00           9                 2              0   \n",
       "1            0 -1 days +18:00:00           9                 2              0   \n",
       "2            0   0 days 00:00:00           9                 2              0   \n",
       "3            0 -1 days +19:00:00           9                 2              0   \n",
       "4            0 -1 days +18:00:00           9                 2              0   \n",
       "...        ...               ...         ...               ...            ...   \n",
       "100139       1   0 days 00:00:00           1                 3              0   \n",
       "100140       0 -1 days +19:00:00           1                 3              0   \n",
       "100141       0   0 days 00:00:00           1                 3              0   \n",
       "100142       0   0 days 00:00:00           1                 3              0   \n",
       "100143       0 -1 days +19:00:00           1                 3              0   \n",
       "\n",
       "       IsReply  Responsiveness  \\\n",
       "0            0        0.251229   \n",
       "1            0        0.349736   \n",
       "2            0        0.251229   \n",
       "3            0        0.349736   \n",
       "4            0        0.349736   \n",
       "...        ...             ...   \n",
       "100139       1        0.399028   \n",
       "100140       1        0.291933   \n",
       "100141       0        0.319608   \n",
       "100142       1        0.399028   \n",
       "100143       0        0.309401   \n",
       "\n",
       "                                           VectorizedText  \n",
       "0         (0, 1403)\\t1\\n  (0, 1449)\\t1\\n  (0, 2010)\\t1...  \n",
       "1         (0, 1403)\\t1\\n  (0, 1449)\\t1\\n  (0, 2010)\\t1...  \n",
       "2         (0, 1403)\\t1\\n  (0, 1449)\\t1\\n  (0, 2010)\\t1...  \n",
       "3         (0, 1403)\\t1\\n  (0, 1449)\\t1\\n  (0, 2010)\\t1...  \n",
       "4         (0, 1403)\\t1\\n  (0, 1449)\\t1\\n  (0, 2010)\\t1...  \n",
       "...                                                   ...  \n",
       "100139    (0, 1403)\\t1\\n  (0, 1449)\\t1\\n  (0, 2010)\\t1...  \n",
       "100140    (0, 1403)\\t1\\n  (0, 1449)\\t1\\n  (0, 2010)\\t1...  \n",
       "100141    (0, 1403)\\t1\\n  (0, 1449)\\t1\\n  (0, 2010)\\t1...  \n",
       "100142    (0, 1403)\\t1\\n  (0, 1449)\\t1\\n  (0, 2010)\\t1...  \n",
       "100143    (0, 1403)\\t1\\n  (0, 1449)\\t1\\n  (0, 2010)\\t1...  \n",
       "\n",
       "[100144 rows x 14 columns]"
      ]
     },
     "execution_count": 190,
     "metadata": {},
     "output_type": "execute_result"
    }
   ],
   "source": [
    "df"
   ]
  },
  {
   "cell_type": "code",
   "execution_count": 235,
   "metadata": {},
   "outputs": [
    {
     "data": {
      "image/png": "[encoded data removed]",
      "text/plain": [
       "<Figure size 432x288 with 2 Axes>"
      ]
     },
     "metadata": {
      "needs_background": "light"
     },
     "output_type": "display_data"
    }
   ],
   "source": [
    "corrMatrix = df.corr()\n",
    "sn.heatmap(corrMatrix, annot=True)\n",
    "plt.show()"
   ]
  },
  {
   "cell_type": "markdown",
   "metadata": {},
   "source": [
    "# Vectorize text"
   ]
  },
  {
   "cell_type": "code",
   "execution_count": 122,
   "metadata": {},
   "outputs": [],
   "source": [
    "from sklearn.feature_extraction.text import CountVectorizer"
   ]
  },
  {
   "cell_type": "code",
   "execution_count": 171,
   "metadata": {},
   "outputs": [],
   "source": [
    "x = []\n",
    "y = []\n",
    "for idx, val in df['Subject'].items():\n",
    "    x.append(val.strip('\"'))\n",
    "    y.append(df.loc[idx,'Opened'])"
   ]
  },
  {
   "cell_type": "code",
   "execution_count": 266,
   "metadata": {},
   "outputs": [
    {
     "data": {
      "text/plain": [
       "0                   (0, 1403)\\t1\\n  (0, 1449)\\t1\\n  (0, 2010)\\t1...\n",
       "1                   (0, 1403)\\t1\\n  (0, 1449)\\t1\\n  (0, 2010)\\t1...\n",
       "2                   (0, 1403)\\t1\\n  (0, 1449)\\t1\\n  (0, 2010)\\t1...\n",
       "3                   (0, 1403)\\t1\\n  (0, 1449)\\t1\\n  (0, 2010)\\t1...\n",
       "4                   (0, 1403)\\t1\\n  (0, 1449)\\t1\\n  (0, 2010)\\t1...\n",
       "                                        ...                        \n",
       "100140              (0, 1403)\\t1\\n  (0, 1449)\\t1\\n  (0, 2010)\\t1...\n",
       "100141              (0, 1403)\\t1\\n  (0, 1449)\\t1\\n  (0, 2010)\\t1...\n",
       "100142              (0, 1403)\\t1\\n  (0, 1449)\\t1\\n  (0, 2010)\\t1...\n",
       "100143              (0, 1403)\\t1\\n  (0, 1449)\\t1\\n  (0, 2010)\\t1...\n",
       "VectorizedText                                                  NaN\n",
       "Name: VectorizedText, Length: 100145, dtype: object"
      ]
     },
     "execution_count": 266,
     "metadata": {},
     "output_type": "execute_result"
    }
   ],
   "source": [
    "x"
   ]
  },
  {
   "cell_type": "code",
   "execution_count": 159,
   "metadata": {},
   "outputs": [],
   "source": [
    "vectorizer = CountVectorizer()\n",
    "X = vectorizer.fit_transform(x)"
   ]
  },
  {
   "cell_type": "code",
   "execution_count": 184,
   "metadata": {},
   "outputs": [],
   "source": [
    "df['VectorizedText'] = X"
   ]
  },
  {
   "cell_type": "code",
   "execution_count": 186,
   "metadata": {
    "scrolled": true
   },
   "outputs": [
    {
     "data": {
      "text/plain": [
       "<100144x7227 sparse matrix of type '<class 'numpy.int64'>'\n",
       "\twith 369068 stored elements in Compressed Sparse Row format>"
      ]
     },
     "execution_count": 186,
     "metadata": {},
     "output_type": "execute_result"
    }
   ],
   "source": [
    "df['VectorizedText'][0]"
   ]
  },
  {
   "cell_type": "code",
   "execution_count": 224,
   "metadata": {},
   "outputs": [],
   "source": [
    "from sklearn.linear_model import LogisticRegression"
   ]
  },
  {
   "cell_type": "code",
   "execution_count": 233,
   "metadata": {},
   "outputs": [
    {
     "data": {
      "text/plain": [
       "LogisticRegression(max_iter=10000)"
      ]
     },
     "execution_count": 233,
     "metadata": {},
     "output_type": "execute_result"
    }
   ],
   "source": [
    "clf = LogisticRegression(max_iter=10000)\n",
    "clf.fit(X, y)"
   ]
  },
  {
   "cell_type": "code",
   "execution_count": 234,
   "metadata": {},
   "outputs": [
    {
     "data": {
      "text/plain": [
       "array([0, 0])"
      ]
     },
     "execution_count": 234,
     "metadata": {},
     "output_type": "execute_result"
    }
   ],
   "source": [
    "clf.predict(vectorizer.transform(['Re:','nice!']))"
   ]
  },
  {
   "cell_type": "markdown",
   "metadata": {},
   "source": [
    "# Prepare training data"
   ]
  },
  {
   "cell_type": "code",
   "execution_count": 198,
   "metadata": {},
   "outputs": [],
   "source": [
    "col2use = ['SentOn_day','SentOn_dayofweek','SentOnWeekend','IsReply','Responsiveness', 'VectorizedText']\n",
    "tframe = df[col2use]"
   ]
  },
  {
   "cell_type": "code",
   "execution_count": 192,
   "metadata": {},
   "outputs": [],
   "source": [
    "X_train = df[col2use][:-100].values\n",
    "X_valid = df[col2use][-100:].values"
   ]
  },
  {
   "cell_type": "code",
   "execution_count": 193,
   "metadata": {},
   "outputs": [],
   "source": [
    "y_train = df['Opened'][:-100].values\n",
    "y_valid = df['Opened'][-100:].values"
   ]
  },
  {
   "cell_type": "code",
   "execution_count": 194,
   "metadata": {},
   "outputs": [
    {
     "name": "stdout",
     "output_type": "stream",
     "text": [
      "Training shapes: (100044, 6) (100044,)\n",
      "Validation shapes: (100, 6) (100,)\n"
     ]
    }
   ],
   "source": [
    "print('Training shapes:',X_train.shape, y_train.shape)\n",
    "print('Validation shapes:',X_valid.shape, y_valid.shape)"
   ]
  },
  {
   "cell_type": "markdown",
   "metadata": {},
   "source": [
    "# Build Model"
   ]
  },
  {
   "cell_type": "code",
   "execution_count": 187,
   "metadata": {},
   "outputs": [],
   "source": [
    "from sklearn.ensemble import RandomForestClassifier"
   ]
  },
  {
   "cell_type": "code",
   "execution_count": 188,
   "metadata": {},
   "outputs": [],
   "source": [
    "rf=RandomForestClassifier(max_depth = 5, n_estimators=100, random_state = 42)"
   ]
  },
  {
   "cell_type": "markdown",
   "metadata": {},
   "source": [
    "# Train"
   ]
  },
  {
   "cell_type": "code",
   "execution_count": 237,
   "metadata": {},
   "outputs": [],
   "source": [
    "col2use = ['SentOn_day','SentOn_dayofweek','SentOnWeekend','IsReply','Responsiveness', ] #'VectorizedText'"
   ]
  },
  {
   "cell_type": "code",
   "execution_count": 211,
   "metadata": {},
   "outputs": [],
   "source": [
    "t = pd.DataFrame()"
   ]
  },
  {
   "cell_type": "code",
   "execution_count": 219,
   "metadata": {
    "scrolled": true
   },
   "outputs": [],
   "source": [
    "t['VectorizedText'] = pd.to_numeric(tframe['VectorizedText'], errors='coerce')"
   ]
  },
  {
   "cell_type": "code",
   "execution_count": 241,
   "metadata": {},
   "outputs": [],
   "source": [
    "X_train = df[col2use][:-100].values\n",
    "X_valid = df[col2use][-100:].values"
   ]
  },
  {
   "cell_type": "code",
   "execution_count": 239,
   "metadata": {},
   "outputs": [
    {
     "data": {
      "text/plain": [
       "RandomForestClassifier(max_depth=5, random_state=42)"
      ]
     },
     "execution_count": 239,
     "metadata": {},
     "output_type": "execute_result"
    }
   ],
   "source": [
    "rf.fit(X_train, y_train)"
   ]
  },
  {
   "cell_type": "code",
   "execution_count": 257,
   "metadata": {},
   "outputs": [],
   "source": [
    "?RandomForestClassifier"
   ]
  },
  {
   "cell_type": "code",
   "execution_count": 242,
   "metadata": {},
   "outputs": [],
   "source": [
    "y_train_preds = rf.predict_proba(X_train)[:,1]\n",
    "y_valid_preds = rf.predict_proba(X_valid)[:,1]"
   ]
  },
  {
   "cell_type": "code",
   "execution_count": 258,
   "metadata": {},
   "outputs": [
    {
     "data": {
      "text/plain": [
       "array([0.27947826, 0.39565421, 0.27947826, ..., 0.40171852, 0.23077629,\n",
       "       0.40171852])"
      ]
     },
     "execution_count": 258,
     "metadata": {},
     "output_type": "execute_result"
    }
   ],
   "source": [
    "y_train_preds"
   ]
  },
  {
   "cell_type": "code",
   "execution_count": 245,
   "metadata": {},
   "outputs": [],
   "source": [
    "from sklearn.metrics import roc_auc_score, accuracy_score, precision_score, recall_score\n",
    "def calc_specificity(y_actual, y_pred, thresh):\n",
    " # calculates specificity\n",
    "    return sum((y_pred < thresh) & (y_actual == 0)) /sum(y_actual ==0)\n",
    "def print_report(y_actual, y_pred, thresh):\n",
    "    auc = roc_auc_score(y_actual, y_pred)\n",
    "    accuracy = accuracy_score(y_actual, (y_pred > thresh))\n",
    "    recall = recall_score(y_actual, (y_pred > thresh))\n",
    "    precision = precision_score(y_actual, (y_pred > thresh))\n",
    "    specificity = calc_specificity(y_actual, y_pred, thresh)\n",
    "    print('AUC:%.3f'%auc)\n",
    "    print('accuracy:%.3f'%accuracy)\n",
    "    print('recall:%.3f'%recall)\n",
    "    print('precision:%.3f'%precision)\n",
    "    print('specificity:%.3f'%specificity)\n",
    "    print('prevalence:%.3f'%calc_prevalence(y_actual))\n",
    "    print(' ')\n",
    "    return auc, accuracy, recall, precision, specificity"
   ]
  },
  {
   "cell_type": "code",
   "execution_count": 255,
   "metadata": {},
   "outputs": [],
   "source": [
    "thresh = 0.201"
   ]
  },
  {
   "cell_type": "code",
   "execution_count": 256,
   "metadata": {},
   "outputs": [
    {
     "name": "stdout",
     "output_type": "stream",
     "text": [
      "AUC:0.605\n",
      "accuracy:0.321\n",
      "recall:0.999\n",
      "precision:0.319\n",
      "specificity:0.006\n",
      "prevalence:0.318\n",
      " \n"
     ]
    },
    {
     "data": {
      "text/plain": [
       "(0.6054821832835037,\n",
       " 0.3210987165647115,\n",
       " 0.9988352326386702,\n",
       " 0.31852588041601415,\n",
       " 0.005785172383491022)"
      ]
     },
     "execution_count": 256,
     "metadata": {},
     "output_type": "execute_result"
    }
   ],
   "source": [
    "print_report(y_train, y_train_preds, thresh)"
   ]
  },
  {
   "cell_type": "code",
   "execution_count": 262,
   "metadata": {},
   "outputs": [
    {
     "data": {
      "image/png": "[encoded data removed]",
      "text/plain": [
       "<Figure size 432x288 with 1 Axes>"
      ]
     },
     "metadata": {
      "needs_background": "light"
     },
     "output_type": "display_data"
    }
   ],
   "source": [
    "from sklearn.metrics import roc_curve\n",
    "\n",
    "fpr_train, tpr_train, thresholds_train = roc_curve(y_train, y_train_preds)\n",
    "auc_train = roc_auc_score(y_train, y_train_preds)\n",
    "\n",
    "fpr_valid, tpr_valid, thresholds_valid = roc_curve(y_valid, y_valid_preds)\n",
    "auc_valid = roc_auc_score(y_valid, y_valid_preds)\n",
    "\n",
    "plt.plot(fpr_train, tpr_train, 'r-',label ='Train AUC:%.3f'%auc_train)\n",
    "plt.plot(fpr_valid, tpr_valid, 'b-',label ='Valid AUC:%.3f'%auc_valid)\n",
    "plt.plot([0,1],[0,1],'k-')\n",
    "plt.xlabel('False Positive Rate')\n",
    "plt.ylabel('True Positive Rate')\n",
    "plt.legend()\n",
    "plt.show()"
   ]
  }
 ],
 "metadata": {
  "kernelspec": {
   "display_name": "Python 3",
   "language": "python",
   "name": "python3"
  },
  "language_info": {
   "codemirror_mode": {
    "name": "ipython",
    "version": 3
   },
   "file_extension": ".py",
   "mimetype": "text/x-python",
   "name": "python",
   "nbconvert_exporter": "python",
   "pygments_lexer": "ipython3",
   "version": "3.8.5"
  }
 },
 "nbformat": 4,
 "nbformat_minor": 4
}
